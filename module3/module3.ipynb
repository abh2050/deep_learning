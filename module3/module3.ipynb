{
 "cells": [
  {
   "cell_type": "markdown",
   "id": "a06f64fc",
   "metadata": {},
   "source": [
    "# Logic Gates using Numpy"
   ]
  },
  {
   "cell_type": "code",
   "execution_count": 811,
   "id": "d3ee8d72",
   "metadata": {},
   "outputs": [],
   "source": [
    "import numpy as np"
   ]
  },
  {
   "cell_type": "code",
   "execution_count": 812,
   "id": "af923d04",
   "metadata": {},
   "outputs": [],
   "source": [
    "x1 =1\n",
    "x2 =1\n",
    "w1 = 1\n",
    "w2 = 1\n",
    "b = -1"
   ]
  },
  {
   "cell_type": "markdown",
   "id": "0f63466b",
   "metadata": {},
   "source": [
    "# And Gate"
   ]
  },
  {
   "cell_type": "code",
   "execution_count": 813,
   "id": "c0bbf2e4",
   "metadata": {},
   "outputs": [],
   "source": [
    "def do_and(x1,x2):\n",
    "    w =np.array([w1,w2])\n",
    "    x =np.array([x1,x2])\n",
    "    y = np.sum(x*w) + b\n",
    "    \n",
    "    return 0 if y <= 0 else 1"
   ]
  },
  {
   "cell_type": "markdown",
   "id": "f5e0c819",
   "metadata": {},
   "source": [
    "### Testing out ```do_and``` numpy function"
   ]
  },
  {
   "cell_type": "code",
   "execution_count": 814,
   "id": "02aef577",
   "metadata": {},
   "outputs": [
    {
     "data": {
      "text/plain": [
       "0"
      ]
     },
     "execution_count": 814,
     "metadata": {},
     "output_type": "execute_result"
    }
   ],
   "source": [
    "do_and(0,0)"
   ]
  },
  {
   "cell_type": "code",
   "execution_count": 815,
   "id": "71d41cb9",
   "metadata": {},
   "outputs": [],
   "source": [
    "xs = [(0,0),(0,1),(1,0),(1,1)]"
   ]
  },
  {
   "cell_type": "code",
   "execution_count": 816,
   "id": "ee454795",
   "metadata": {},
   "outputs": [
    {
     "name": "stdout",
     "output_type": "stream",
     "text": [
      "If you do_and with 0 and 0, you will have 0\n",
      "If you do_and with 0 and 1, you will have 0\n",
      "If you do_and with 1 and 0, you will have 0\n",
      "If you do_and with 1 and 1, you will have 1\n"
     ]
    }
   ],
   "source": [
    "for x in xs:\n",
    "    y = do_and(x[0],x[1])\n",
    "    print(\"If you do_and with {} and {}, you will have {}\".format(x[0],x[1],y))"
   ]
  },
  {
   "cell_type": "markdown",
   "id": "ef17cf29",
   "metadata": {},
   "source": [
    "### NAND Gate"
   ]
  },
  {
   "cell_type": "code",
   "execution_count": 817,
   "id": "7896fcb5",
   "metadata": {},
   "outputs": [],
   "source": [
    "x1 =1\n",
    "x2 =1\n",
    "w1 = -1\n",
    "w2 = -1\n",
    "b = 2"
   ]
  },
  {
   "cell_type": "code",
   "execution_count": 818,
   "id": "b1b3c83b",
   "metadata": {},
   "outputs": [],
   "source": [
    "def do_nand(x1,x2):\n",
    "    w =np.array([w1,w2])\n",
    "    x =np.array([x1,x2])\n",
    "    y = np.sum(x*w) + b\n",
    "    \n",
    "    return 0 if y <= 0 else 1"
   ]
  },
  {
   "cell_type": "markdown",
   "id": "0b940d3f",
   "metadata": {},
   "source": [
    "Testing Nand gate with do ```do_nand```"
   ]
  },
  {
   "cell_type": "code",
   "execution_count": 819,
   "id": "405d9c20",
   "metadata": {},
   "outputs": [
    {
     "data": {
      "text/plain": [
       "0"
      ]
     },
     "execution_count": 819,
     "metadata": {},
     "output_type": "execute_result"
    }
   ],
   "source": [
    "do_nand(1,1)"
   ]
  },
  {
   "cell_type": "code",
   "execution_count": 820,
   "id": "28aa55b3",
   "metadata": {},
   "outputs": [
    {
     "name": "stdout",
     "output_type": "stream",
     "text": [
      "If you do_and with 0 and 0, you will have 1\n",
      "If you do_and with 0 and 1, you will have 1\n",
      "If you do_and with 1 and 0, you will have 1\n",
      "If you do_and with 1 and 1, you will have 0\n"
     ]
    }
   ],
   "source": [
    "for x in xs:\n",
    "    y = do_nand(x[0],x[1])\n",
    "    print(\"If you do_and with {} and {}, you will have {}\".format(x[0],x[1],y))"
   ]
  },
  {
   "cell_type": "markdown",
   "id": "e9254c8f",
   "metadata": {},
   "source": [
    "### OR gate"
   ]
  },
  {
   "cell_type": "code",
   "execution_count": 821,
   "id": "8ab6c2ba",
   "metadata": {},
   "outputs": [],
   "source": [
    "x1 =2\n",
    "x2 =1\n",
    "w1 = 2\n",
    "w2 = 2\n",
    "b = -1"
   ]
  },
  {
   "cell_type": "code",
   "execution_count": 822,
   "id": "a2ab3e2d",
   "metadata": {},
   "outputs": [],
   "source": [
    "def do_or(x1,x2):\n",
    "    w =np.array([w1,w2])\n",
    "    x =np.array([x1,x2])\n",
    "    y = np.sum(x*w) + b\n",
    "    \n",
    "    return 0 if y <= 0 else 1"
   ]
  },
  {
   "cell_type": "markdown",
   "id": "f7f3f1a9",
   "metadata": {},
   "source": [
    "Testing OR gate with do ```do_or```"
   ]
  },
  {
   "cell_type": "code",
   "execution_count": 823,
   "id": "e300cd8c",
   "metadata": {},
   "outputs": [
    {
     "data": {
      "text/plain": [
       "0"
      ]
     },
     "execution_count": 823,
     "metadata": {},
     "output_type": "execute_result"
    }
   ],
   "source": [
    "do_or(0,0)"
   ]
  },
  {
   "cell_type": "code",
   "execution_count": 824,
   "id": "c9362455",
   "metadata": {},
   "outputs": [
    {
     "name": "stdout",
     "output_type": "stream",
     "text": [
      "If you do_and with 0 and 0, you will have 0\n",
      "If you do_and with 0 and 1, you will have 1\n",
      "If you do_and with 1 and 0, you will have 1\n",
      "If you do_and with 1 and 1, you will have 1\n"
     ]
    }
   ],
   "source": [
    "for x in xs:\n",
    "    y = do_or(x[0],x[1])\n",
    "    print(\"If you do_and with {} and {}, you will have {}\".format(x[0],x[1],y))"
   ]
  },
  {
   "cell_type": "markdown",
   "id": "7b7ecbfc",
   "metadata": {},
   "source": [
    "### NOR gate"
   ]
  },
  {
   "cell_type": "code",
   "execution_count": 825,
   "id": "cbf56e99",
   "metadata": {},
   "outputs": [],
   "source": [
    "x1 =2\n",
    "x2 =1\n",
    "w1 = -2\n",
    "w2 = -2\n",
    "b = 1"
   ]
  },
  {
   "cell_type": "code",
   "execution_count": 826,
   "id": "5f3f92a3",
   "metadata": {},
   "outputs": [],
   "source": [
    "def do_nor(x1,x2):\n",
    "    w =np.array([w1,w2])\n",
    "    x =np.array([x1,x2])\n",
    "    y = np.sum(x*w) + b\n",
    "    \n",
    "    return 0 if y <= 0 else 1"
   ]
  },
  {
   "cell_type": "markdown",
   "id": "42d38d12",
   "metadata": {},
   "source": [
    "Testing NOR gate with do ```do_nor```"
   ]
  },
  {
   "cell_type": "code",
   "execution_count": 827,
   "id": "0ba0b463",
   "metadata": {},
   "outputs": [
    {
     "data": {
      "text/plain": [
       "0"
      ]
     },
     "execution_count": 827,
     "metadata": {},
     "output_type": "execute_result"
    }
   ],
   "source": [
    "do_nor(1,1)"
   ]
  },
  {
   "cell_type": "code",
   "execution_count": 828,
   "id": "d0eca35f",
   "metadata": {},
   "outputs": [
    {
     "name": "stdout",
     "output_type": "stream",
     "text": [
      "If you do_and with 0 and 0, you will have 1\n",
      "If you do_and with 0 and 1, you will have 0\n",
      "If you do_and with 1 and 0, you will have 0\n",
      "If you do_and with 1 and 1, you will have 0\n"
     ]
    }
   ],
   "source": [
    "for x in xs:\n",
    "    y = do_nor(x[0],x[1])\n",
    "    print(\"If you do_and with {} and {}, you will have {}\".format(x[0],x[1],y))"
   ]
  },
  {
   "cell_type": "markdown",
   "id": "b7785cee",
   "metadata": {},
   "source": [
    "### XOR Gate"
   ]
  },
  {
   "cell_type": "code",
   "execution_count": 829,
   "id": "ed1e84c3",
   "metadata": {},
   "outputs": [],
   "source": [
    "x1 = 1\n",
    "x2 = 1"
   ]
  },
  {
   "cell_type": "code",
   "execution_count": 830,
   "id": "333af0ea",
   "metadata": {},
   "outputs": [],
   "source": [
    "def do_and(x1,x2):\n",
    "    x = np.array([x1,x2])\n",
    "    w = np.array([0.5,0.5])\n",
    "    b = -0.7\n",
    "    y = np.sum(x*w) + b\n",
    "    return 1 if  y > 0 else 0\n",
    "\n",
    "def do_nand(x1,x2):\n",
    "    return 1 if do_and(x1,x2) == 0 else 0\n",
    "\n",
    "def do_or(x1,x2):\n",
    "    x = np.array([x1, x2])\n",
    "    w = np.array([0.5, 0.5])\n",
    "    b = -0.2\n",
    "    y = np.sum(x*w)+ b\n",
    "    return 1 if y > 0 else 0\n",
    "\n",
    "def do_nor(x1,x2):\n",
    "        return 1 if do_or(x1,x2) == 0 else 0\n",
    "\n",
    "#Combing 2 logic gates\n",
    " \n",
    "def do_xor(x1,x2):\n",
    "    y1 = do_or(x1,x2)\n",
    "    y2 = do_nand(x1, x2)\n",
    "    y = do_and(y1, y2)\n",
    "        \n",
    "    return y"
   ]
  },
  {
   "cell_type": "markdown",
   "id": "eb6ae20e",
   "metadata": {},
   "source": [
    "### Testing out the ```do_xor``` function"
   ]
  },
  {
   "cell_type": "code",
   "execution_count": 831,
   "id": "194524c3",
   "metadata": {},
   "outputs": [
    {
     "data": {
      "text/plain": [
       "0"
      ]
     },
     "execution_count": 831,
     "metadata": {},
     "output_type": "execute_result"
    }
   ],
   "source": [
    "do_xor(1,1)"
   ]
  },
  {
   "cell_type": "code",
   "execution_count": 832,
   "id": "1c8b8597",
   "metadata": {},
   "outputs": [
    {
     "name": "stdout",
     "output_type": "stream",
     "text": [
      "If you do_xor with 0 and 0, you will have 0\n",
      "If you do_xor with 0 and 1, you will have 1\n",
      "If you do_xor with 1 and 0, you will have 1\n",
      "If you do_xor with 1 and 1, you will have 0\n"
     ]
    }
   ],
   "source": [
    "for x in xs:\n",
    "    y = do_xor(x[0],x[1])\n",
    "    print(\"If you do_xor with {} and {}, you will have {}\".format(x[0],x[1],y))"
   ]
  }
 ],
 "metadata": {
  "kernelspec": {
   "display_name": "Python 3 (ipykernel)",
   "language": "python",
   "name": "python3"
  },
  "language_info": {
   "codemirror_mode": {
    "name": "ipython",
    "version": 3
   },
   "file_extension": ".py",
   "mimetype": "text/x-python",
   "name": "python",
   "nbconvert_exporter": "python",
   "pygments_lexer": "ipython3",
   "version": "3.9.12"
  }
 },
 "nbformat": 4,
 "nbformat_minor": 5
}
